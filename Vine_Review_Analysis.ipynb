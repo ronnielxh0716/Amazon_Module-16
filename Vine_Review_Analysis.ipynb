{
 "cells": [
  {
   "cell_type": "code",
   "execution_count": 1,
   "metadata": {
    "colab": {
     "base_uri": "https://localhost:8080/"
    },
    "id": "J4VSyCW2k9ol",
    "outputId": "f0667979-5132-4539-eafa-8e297d372d3f"
   },
   "outputs": [],
   "source": [
    "import os\n",
    "# Find the latest version of spark 2.0  from http://www-us.apache.org/dist/spark/ and enter as the spark version\n",
    "# For example:\n",
    "# spark_version = 'spark-3.0.0'\n",
    "spark_version = 'spark-3.0.1'\n",
    "os.environ['SPARK_VERSION']=spark_version\n",
    "\n",
    "# Install Spark and Java\n",
    "# !apt-get update\n",
    "# !apt-get install openjdk-11-jdk-headless -qq > /dev/null\n",
    "# !wget -q http://www-us.apache.org/dist/spark/$SPARK_VERSION/$SPARK_VERSION-bin-hadoop2.7.tgz\n",
    "# !tar xf $SPARK_VERSION-bin-hadoop2.7.tgz\n",
    "# !pip install -q findspark\n",
    "\n",
    "# Set Environment Variables\n",
    "import os\n",
    "# os.environ[\"JAVA_HOME\"] = \"/usr/lib/jvm/java-11-openjdk-amd64\"\n",
    "# os.environ[\"SPARK_HOME\"] = f\"/content/{spark_version}-bin-hadoop2.7\"\n",
    "os.environ[\"SPARK_HOME\"] = r'C:\\spark-3.1.1-bin-hadoop3.2'\n",
    "os.environ[\"HADOOP_HOME\"] = r'C:\\hadoop'\n",
    "\n",
    "# Start a SparkSession\n",
    "import findspark\n",
    "findspark.init()"
   ]
  },
  {
   "cell_type": "code",
   "execution_count": 2,
   "metadata": {
    "id": "MTWDblnElcI9"
   },
   "outputs": [],
   "source": [
    "from pyspark.sql import SparkSession\n",
    "spark = SparkSession.builder.appName(\"BigData-Challenge\").config(\"spark.driver.extraClassPath\",\"postgresql-42.2.16.jar\").getOrCreate()"
   ]
  },
  {
   "cell_type": "code",
   "execution_count": 3,
   "metadata": {
    "colab": {
     "base_uri": "https://localhost:8080/"
    },
    "id": "UukvIschln5L",
    "outputId": "9dbb39c5-86c0-46ec-afa7-457e712b1b04"
   },
   "outputs": [
    {
     "name": "stdout",
     "output_type": "stream",
     "text": [
      "+-----------+-----------+--------------+----------+--------------+--------------------+----------------+-----------+-------------+-----------+----+-----------------+--------------------+--------------------+-----------+\n",
      "|marketplace|customer_id|     review_id|product_id|product_parent|       product_title|product_category|star_rating|helpful_votes|total_votes|vine|verified_purchase|     review_headline|         review_body|review_date|\n",
      "+-----------+-----------+--------------+----------+--------------+--------------------+----------------+-----------+-------------+-----------+----+-----------------+--------------------+--------------------+-----------+\n",
      "|         US|   18778586| RDIJS7QYB6XNR|B00EDBY7X8|     122952789|Monopoly Junior B...|            Toys|          5|            0|          0|   N|                Y|          Five Stars|        Excellent!!!| 2015-08-31|\n",
      "|         US|   24769659|R36ED1U38IELG8|B00D7JFOPC|     952062646|56 Pieces of Wood...|            Toys|          5|            0|          0|   N|                Y|Good quality trac...|Great quality woo...| 2015-08-31|\n",
      "|         US|   44331596| R1UE3RPRGCOLD|B002LHA74O|     818126353|Super Jumbo Playi...|            Toys|          2|            1|          1|   N|                Y|           Two Stars|Cards are not as ...| 2015-08-31|\n",
      "|         US|   23310293|R298788GS6I901|B00ARPLCGY|     261944918|Barbie Doll and F...|            Toys|          5|            0|          0|   N|                Y|my daughter loved...|my daughter loved...| 2015-08-31|\n",
      "|         US|   38745832|  RNX4EXOBBPN5|B00UZOPOFW|     717410439|Emazing Lights eL...|            Toys|          1|            1|          1|   N|                Y|     DONT BUY THESE!|Do not buy these!...| 2015-08-31|\n",
      "|         US|   13394189|R3BPETL222LMIM|B009B7F6CA|     873028700|Melissa & Doug Wa...|            Toys|          5|            0|          0|   N|                Y|          Five Stars|Great item. Pictu...| 2015-08-31|\n",
      "|         US|    2749569|R3SORMPJZO3F2J|B0101EHRSM|     723424342|Big Bang Cosmic P...|            Toys|          3|            2|          2|   N|                Y|         Three Stars|To keep together,...| 2015-08-31|\n",
      "|         US|   41137196|R2RDOJQ0WBZCF6|B00407S11Y|     383363775|Fun Express Insec...|            Toys|          5|            0|          0|   N|                Y|          Five Stars|I was pleased wit...| 2015-08-31|\n",
      "|         US|     433677|R2B8VBEPB4YEZ7|B00FGPU7U2|     780517568|Fisher-Price Octo...|            Toys|          5|            0|          0|   N|                Y|          Five Stars|    Children like it| 2015-08-31|\n",
      "|         US|    1297934|R1CB783I7B0U52|B0013OY0S0|     269360126|Claw Climber Goli...|            Toys|          1|            0|          1|   N|                Y|Shame on the sell...|Showed up not how...| 2015-08-31|\n",
      "|         US|   52006292| R2D90RQQ3V8LH|B00519PJTW|     493486387|100 Foot Multicol...|            Toys|          5|            0|          0|   N|                Y|          Five Stars|Really liked thes...| 2015-08-31|\n",
      "|         US|   32071052|R1Y4ZOUGFMJ327|B001TCY2DO|     459122467|Pig Jumbo Foil Ba...|            Toys|          5|            0|          0|   N|                Y|   Nice huge balloon|Nice huge balloon...| 2015-08-31|\n",
      "|         US|    7360347|R2BUV9QJI2A00X|B00DOQCWF8|     226984155|Minecraft Animal ...|            Toys|          5|            0|          1|   N|                Y|          Five Stars|          Great deal| 2015-08-31|\n",
      "|         US|   11613707| RSUHRJFJIRB3Z|B004C04I4I|     375659886|Disney Baby: Eeyo...|            Toys|          4|            0|          0|   N|                Y|          Four Stars|       As Advertised| 2015-08-31|\n",
      "|         US|   13545982|R1T96CG98BBA15|B00NWGEKBY|     933734136|Team Losi 8IGHT-E...|            Toys|          3|            2|          4|   N|                Y|... servo so expe...|Comes w a 15$ ser...| 2015-08-31|\n",
      "|         US|   43880421| R2ATXF4QQ30YW|B00000JS5S|     341842639|Hot Wheels 48- Ca...|            Toys|          5|            0|          0|   N|                Y|          Five Stars|   awesome ! Thanks!| 2015-08-31|\n",
      "|         US|    1662075|R1YS3DS218NNMD|B00XPWXYDK|     210135375|ZuZo 2.4GHz 4 CH ...|            Toys|          5|            4|          4|   N|                N|The closest relev...|I got this item f...| 2015-08-31|\n",
      "|         US|   18461411|R2SDXLTLF92O0H|B00VPXX92W|     705054378|Teenage Mutant Ni...|            Toys|          5|            0|          0|   N|                Y|          Five Stars|It was a birthday...| 2015-08-31|\n",
      "|         US|   27225859| R4R337CCDWLNG|B00YRA3H4U|     223420727|Franklin Sports M...|            Toys|          3|            0|          1|   Y|                N|Got wrong product...|Got a wrong produ...| 2015-08-31|\n",
      "|         US|   20494593|R32Z6UA4S5Q630|B009T8BSQY|     787701676|Alien Frontiers: ...|            Toys|          1|            0|          0|   N|                Y|         Overpriced.|You need expansio...| 2015-08-31|\n",
      "+-----------+-----------+--------------+----------+--------------+--------------------+----------------+-----------+-------------+-----------+----+-----------------+--------------------+--------------------+-----------+\n",
      "only showing top 20 rows\n",
      "\n"
     ]
    }
   ],
   "source": [
    "from pyspark import SparkFiles\n",
    "url = r'https://s3.amazonaws.com/amazon-reviews-pds/tsv/amazon_reviews_us_Toys_v1_00.tsv.gz'\n",
    "spark.sparkContext.addFile(url)\n",
    "df = spark.read.option(\"encoding\", \"UTF-8\").csv(SparkFiles.get(\"amazon_reviews_us_Toys_v1_00.tsv.gz\"), sep=\"\\t\", header=True, inferSchema=True)\n",
    "df.show()"
   ]
  },
  {
   "cell_type": "code",
   "execution_count": 6,
   "metadata": {
    "colab": {
     "base_uri": "https://localhost:8080/"
    },
    "id": "b-gKN1Rzlont",
    "outputId": "d03b84a1-30e8-4872-c2c9-7545d9c8f30c"
   },
   "outputs": [
    {
     "name": "stdout",
     "output_type": "stream",
     "text": [
      "+--------------+-----------+-------------+-----------+----+-----------------+\n",
      "|     review_id|star_rating|helpful_votes|total_votes|vine|verified_purchase|\n",
      "+--------------+-----------+-------------+-----------+----+-----------------+\n",
      "| RDIJS7QYB6XNR|          5|            0|          0|   N|                Y|\n",
      "|R36ED1U38IELG8|          5|            0|          0|   N|                Y|\n",
      "| R1UE3RPRGCOLD|          2|            1|          1|   N|                Y|\n",
      "|R298788GS6I901|          5|            0|          0|   N|                Y|\n",
      "|  RNX4EXOBBPN5|          1|            1|          1|   N|                Y|\n",
      "|R3BPETL222LMIM|          5|            0|          0|   N|                Y|\n",
      "|R3SORMPJZO3F2J|          3|            2|          2|   N|                Y|\n",
      "|R2RDOJQ0WBZCF6|          5|            0|          0|   N|                Y|\n",
      "|R2B8VBEPB4YEZ7|          5|            0|          0|   N|                Y|\n",
      "|R1CB783I7B0U52|          1|            0|          1|   N|                Y|\n",
      "| R2D90RQQ3V8LH|          5|            0|          0|   N|                Y|\n",
      "|R1Y4ZOUGFMJ327|          5|            0|          0|   N|                Y|\n",
      "|R2BUV9QJI2A00X|          5|            0|          1|   N|                Y|\n",
      "| RSUHRJFJIRB3Z|          4|            0|          0|   N|                Y|\n",
      "|R1T96CG98BBA15|          3|            2|          4|   N|                Y|\n",
      "| R2ATXF4QQ30YW|          5|            0|          0|   N|                Y|\n",
      "|R1YS3DS218NNMD|          5|            4|          4|   N|                N|\n",
      "|R2SDXLTLF92O0H|          5|            0|          0|   N|                Y|\n",
      "| R4R337CCDWLNG|          3|            0|          1|   Y|                N|\n",
      "|R32Z6UA4S5Q630|          1|            0|          0|   N|                Y|\n",
      "+--------------+-----------+-------------+-----------+----+-----------------+\n",
      "only showing top 20 rows\n",
      "\n"
     ]
    }
   ],
   "source": [
    "# Create the vine_table DataFrame\n",
    "# vine_df = df.select([])\n",
    "vine_df = df.select(['review_id', 'star_rating', 'helpful_votes', 'total_votes', 'vine', 'verified_purchase'])\n",
    "vine_df.show()"
   ]
  },
  {
   "cell_type": "code",
   "execution_count": 7,
   "metadata": {
    "colab": {
     "base_uri": "https://localhost:8080/"
    },
    "id": "1YcVlAbzmjqL",
    "outputId": "2cc43dea-dd98-4778-97ee-b12d0b30680a"
   },
   "outputs": [
    {
     "name": "stdout",
     "output_type": "stream",
     "text": [
      "+--------------+-----------+-------------+-----------+----+-----------------+\n",
      "|review_id     |star_rating|helpful_votes|total_votes|vine|verified_purchase|\n",
      "+--------------+-----------+-------------+-----------+----+-----------------+\n",
      "|ROP6ITXO8K5V2 |5          |23           |27         |N   |Y                |\n",
      "|R3ND1LVU7AXCVF|1          |21           |21         |N   |Y                |\n",
      "|R9I5FOLKU99RY |5          |19           |20         |Y   |N                |\n",
      "|R1QS8AOD6HX3ED|4          |59           |81         |N   |N                |\n",
      "|R3ED60RC69CCQ6|5          |22           |23         |Y   |N                |\n",
      "|R2MDI1TP46VSYD|3          |9            |21         |N   |Y                |\n",
      "|R2JM687C525WR9|3          |33           |33         |Y   |N                |\n",
      "|R2LWX4TZ67FWPT|4          |50           |50         |N   |N                |\n",
      "|R29IYHPYD14AGI|3          |84           |84         |N   |Y                |\n",
      "|R1F2I723WRK5QV|5          |20           |20         |N   |Y                |\n",
      "|RRO8C1IVZMD6H |5          |22           |22         |N   |N                |\n",
      "|R2GHOWIWDVLN18|1          |28           |36         |N   |Y                |\n",
      "|R30PJ9XUHFTY5D|5          |42           |43         |N   |N                |\n",
      "|RK12D8DTG4G82 |5          |5            |22         |N   |N                |\n",
      "|R2F7D9N3SSQC20|4          |32           |34         |N   |N                |\n",
      "|RN4VK9FV66YPS |5          |29           |33         |N   |N                |\n",
      "|R18T8SFBDXAKSY|5          |95           |95         |N   |Y                |\n",
      "|R36SKVJXZ0I98A|5          |124          |127        |N   |N                |\n",
      "|RJDIWMOZT0EGZ |1          |11           |27         |N   |N                |\n",
      "|R3PAIHQSO707G4|5          |189          |221        |N   |N                |\n",
      "+--------------+-----------+-------------+-----------+----+-----------------+\n",
      "only showing top 20 rows\n",
      "\n"
     ]
    }
   ],
   "source": [
    "# Filter data to create a DataFrame with 20 or more total votes\n",
    "cleaned_vine_df = vine_df.filter(\"total_votes >= 20\")\n",
    "cleaned_vine_df.show(truncate=False)"
   ]
  },
  {
   "cell_type": "code",
   "execution_count": 8,
   "metadata": {
    "colab": {
     "base_uri": "https://localhost:8080/"
    },
    "id": "nHJE6hbMxSc7",
    "outputId": "af69c11d-aa5a-4e1d-a2f3-c8c5335ef854"
   },
   "outputs": [
    {
     "name": "stdout",
     "output_type": "stream",
     "text": [
      "+--------------+-----------+-------------+-----------+----+-----------------+\n",
      "|     review_id|star_rating|helpful_votes|total_votes|vine|verified_purchase|\n",
      "+--------------+-----------+-------------+-----------+----+-----------------+\n",
      "| ROP6ITXO8K5V2|          5|           23|         27|   N|                Y|\n",
      "|R3ND1LVU7AXCVF|          1|           21|         21|   N|                Y|\n",
      "| R9I5FOLKU99RY|          5|           19|         20|   Y|                N|\n",
      "|R1QS8AOD6HX3ED|          4|           59|         81|   N|                N|\n",
      "|R3ED60RC69CCQ6|          5|           22|         23|   Y|                N|\n",
      "|R2JM687C525WR9|          3|           33|         33|   Y|                N|\n",
      "|R2LWX4TZ67FWPT|          4|           50|         50|   N|                N|\n",
      "|R29IYHPYD14AGI|          3|           84|         84|   N|                Y|\n",
      "|R1F2I723WRK5QV|          5|           20|         20|   N|                Y|\n",
      "| RRO8C1IVZMD6H|          5|           22|         22|   N|                N|\n",
      "|R2GHOWIWDVLN18|          1|           28|         36|   N|                Y|\n",
      "|R30PJ9XUHFTY5D|          5|           42|         43|   N|                N|\n",
      "|R2F7D9N3SSQC20|          4|           32|         34|   N|                N|\n",
      "| RN4VK9FV66YPS|          5|           29|         33|   N|                N|\n",
      "|R18T8SFBDXAKSY|          5|           95|         95|   N|                Y|\n",
      "|R36SKVJXZ0I98A|          5|          124|        127|   N|                N|\n",
      "|R3PAIHQSO707G4|          5|          189|        221|   N|                N|\n",
      "|R2TETIV0IVWFSJ|          4|           80|         82|   N|                Y|\n",
      "|R1VBVD23GPZW0E|          5|           55|         58|   N|                Y|\n",
      "|R1AJKXVHURPVCZ|          3|           12|         22|   N|                Y|\n",
      "+--------------+-----------+-------------+-----------+----+-----------------+\n",
      "only showing top 20 rows\n",
      "\n"
     ]
    }
   ],
   "source": [
    "# Filter data to create a DataFrame or table where the percentage of helpful_votes is equal to or greater than 50%\n",
    "helpful_vine_df = cleaned_vine_df.filter(\"helpful_votes / total_votes >=0.5\")\n",
    "helpful_vine_df.show()"
   ]
  },
  {
   "cell_type": "code",
   "execution_count": 9,
   "metadata": {
    "colab": {
     "base_uri": "https://localhost:8080/"
    },
    "id": "wJtTY_O7m51C",
    "outputId": "c7df3e5e-b375-44e4-fabe-f35753af2b6c"
   },
   "outputs": [
    {
     "name": "stdout",
     "output_type": "stream",
     "text": [
      "+--------------+-----------+-------------+-----------+----+-----------------+\n",
      "|     review_id|star_rating|helpful_votes|total_votes|vine|verified_purchase|\n",
      "+--------------+-----------+-------------+-----------+----+-----------------+\n",
      "| R9I5FOLKU99RY|          5|           19|         20|   Y|                N|\n",
      "|R3ED60RC69CCQ6|          5|           22|         23|   Y|                N|\n",
      "|R2JM687C525WR9|          3|           33|         33|   Y|                N|\n",
      "| RUB4AUWGHG16G|          4|           25|         27|   Y|                N|\n",
      "|R1S3IDYJUA6V2G|          5|           28|         32|   Y|                N|\n",
      "| RZFLN8FD5Y2M6|          4|           25|         28|   Y|                N|\n",
      "|R1V8NDXD9SETO5|          3|          320|        352|   Y|                N|\n",
      "|R2H4VEFWHP50M3|          5|           26|         36|   Y|                N|\n",
      "|R3DP6Y0A8WXUOV|          5|           21|         21|   Y|                N|\n",
      "| R49L85GZIKH4D|          3|           33|         36|   Y|                N|\n",
      "| R2RQKWRUS11DZ|          5|           18|         20|   Y|                N|\n",
      "| RZL7TPXLJPR2Z|          4|           19|         20|   Y|                N|\n",
      "|R34JSTH01HK1J8|          4|           75|         80|   Y|                N|\n",
      "|R1OI8PAJW4MWUY|          5|           20|         20|   Y|                N|\n",
      "|R1RXSJILN39UY1|          5|           48|         53|   Y|                N|\n",
      "| R79XS8S5EYX59|          3|           20|         22|   Y|                N|\n",
      "|R24STRS5M3QEXQ|          5|           60|         65|   Y|                N|\n",
      "|R15HJU8XNX1XG1|          4|           25|         26|   Y|                N|\n",
      "|R1NMYF3BJM72A0|          4|           57|         60|   Y|                N|\n",
      "| R8XSDH6E6YWMX|          4|           22|         24|   Y|                N|\n",
      "+--------------+-----------+-------------+-----------+----+-----------------+\n",
      "only showing top 20 rows\n",
      "\n"
     ]
    }
   ],
   "source": [
    "# Create a DataFrame or table where there is a Vine review \n",
    "paid_vine_df = helpful_vine_df.filter(\"vine == 'Y'\")\n",
    "paid_vine_df.show()"
   ]
  },
  {
   "cell_type": "code",
   "execution_count": 10,
   "metadata": {
    "colab": {
     "base_uri": "https://localhost:8080/"
    },
    "id": "tWzn74sCQUCH",
    "outputId": "d0919964-f5ef-4cb0-e811-493f4e1fb9d2"
   },
   "outputs": [
    {
     "name": "stdout",
     "output_type": "stream",
     "text": [
      "+--------------+-----------+-------------+-----------+----+-----------------+\n",
      "|     review_id|star_rating|helpful_votes|total_votes|vine|verified_purchase|\n",
      "+--------------+-----------+-------------+-----------+----+-----------------+\n",
      "| R9I5FOLKU99RY|          5|           19|         20|   Y|                N|\n",
      "|R3ED60RC69CCQ6|          5|           22|         23|   Y|                N|\n",
      "|R2JM687C525WR9|          3|           33|         33|   Y|                N|\n",
      "| RUB4AUWGHG16G|          4|           25|         27|   Y|                N|\n",
      "|R1S3IDYJUA6V2G|          5|           28|         32|   Y|                N|\n",
      "| RZFLN8FD5Y2M6|          4|           25|         28|   Y|                N|\n",
      "|R1V8NDXD9SETO5|          3|          320|        352|   Y|                N|\n",
      "|R2H4VEFWHP50M3|          5|           26|         36|   Y|                N|\n",
      "|R3DP6Y0A8WXUOV|          5|           21|         21|   Y|                N|\n",
      "| R49L85GZIKH4D|          3|           33|         36|   Y|                N|\n",
      "| R2RQKWRUS11DZ|          5|           18|         20|   Y|                N|\n",
      "| RZL7TPXLJPR2Z|          4|           19|         20|   Y|                N|\n",
      "|R34JSTH01HK1J8|          4|           75|         80|   Y|                N|\n",
      "|R1OI8PAJW4MWUY|          5|           20|         20|   Y|                N|\n",
      "|R1RXSJILN39UY1|          5|           48|         53|   Y|                N|\n",
      "| R79XS8S5EYX59|          3|           20|         22|   Y|                N|\n",
      "|R24STRS5M3QEXQ|          5|           60|         65|   Y|                N|\n",
      "|R15HJU8XNX1XG1|          4|           25|         26|   Y|                N|\n",
      "|R1NMYF3BJM72A0|          4|           57|         60|   Y|                N|\n",
      "| R8XSDH6E6YWMX|          4|           22|         24|   Y|                N|\n",
      "+--------------+-----------+-------------+-----------+----+-----------------+\n",
      "only showing top 20 rows\n",
      "\n"
     ]
    }
   ],
   "source": [
    "paid_vine_df = helpful_vine_df.filter(helpful_vine_df[\"vine\"] == \"Y\")\n",
    "paid_vine_df.show()"
   ]
  },
  {
   "cell_type": "code",
   "execution_count": 11,
   "metadata": {
    "colab": {
     "base_uri": "https://localhost:8080/"
    },
    "id": "iQHcE3sQm53v",
    "outputId": "77a2f76d-d238-4869-c834-afeccd594489"
   },
   "outputs": [
    {
     "name": "stdout",
     "output_type": "stream",
     "text": [
      "+--------------+-----------+-------------+-----------+----+-----------------+\n",
      "|     review_id|star_rating|helpful_votes|total_votes|vine|verified_purchase|\n",
      "+--------------+-----------+-------------+-----------+----+-----------------+\n",
      "| ROP6ITXO8K5V2|          5|           23|         27|   N|                Y|\n",
      "|R3ND1LVU7AXCVF|          1|           21|         21|   N|                Y|\n",
      "|R1QS8AOD6HX3ED|          4|           59|         81|   N|                N|\n",
      "|R2LWX4TZ67FWPT|          4|           50|         50|   N|                N|\n",
      "|R29IYHPYD14AGI|          3|           84|         84|   N|                Y|\n",
      "|R1F2I723WRK5QV|          5|           20|         20|   N|                Y|\n",
      "| RRO8C1IVZMD6H|          5|           22|         22|   N|                N|\n",
      "|R2GHOWIWDVLN18|          1|           28|         36|   N|                Y|\n",
      "|R30PJ9XUHFTY5D|          5|           42|         43|   N|                N|\n",
      "|R2F7D9N3SSQC20|          4|           32|         34|   N|                N|\n",
      "| RN4VK9FV66YPS|          5|           29|         33|   N|                N|\n",
      "|R18T8SFBDXAKSY|          5|           95|         95|   N|                Y|\n",
      "|R36SKVJXZ0I98A|          5|          124|        127|   N|                N|\n",
      "|R3PAIHQSO707G4|          5|          189|        221|   N|                N|\n",
      "|R2TETIV0IVWFSJ|          4|           80|         82|   N|                Y|\n",
      "|R1VBVD23GPZW0E|          5|           55|         58|   N|                Y|\n",
      "|R1AJKXVHURPVCZ|          3|           12|         22|   N|                Y|\n",
      "|R2QDNZYVEX9X14|          2|           18|         20|   N|                N|\n",
      "|R32RD311POLW7G|          3|           25|         27|   N|                Y|\n",
      "|R1VXO073B9HOGC|          4|           29|         30|   N|                Y|\n",
      "+--------------+-----------+-------------+-----------+----+-----------------+\n",
      "only showing top 20 rows\n",
      "\n"
     ]
    }
   ],
   "source": [
    "#Create a DataFrame or table where there is a non-Vine review \n",
    "unpaid_vine_df = helpful_vine_df.filter(helpful_vine_df[\"vine\"] == \"N\")\n",
    "unpaid_vine_df.show()"
   ]
  },
  {
   "cell_type": "code",
   "execution_count": 12,
   "metadata": {
    "colab": {
     "base_uri": "https://localhost:8080/"
    },
    "id": "qUGRTILFQqoL",
    "outputId": "6663cd2f-970a-42ce-8b5b-5bbf510467ea"
   },
   "outputs": [
    {
     "data": {
      "text/plain": [
       "63294"
      ]
     },
     "execution_count": 12,
     "metadata": {},
     "output_type": "execute_result"
    }
   ],
   "source": [
    "# The total number of reviews\n",
    "total_number_reviews = helpful_vine_df.count()\n",
    "total_number_reviews"
   ]
  },
  {
   "cell_type": "code",
   "execution_count": 13,
   "metadata": {
    "colab": {
     "base_uri": "https://localhost:8080/"
    },
    "id": "0mzR8Pixm6KN",
    "outputId": "6a31d65f-5eae-4ad0-b368-eff2a746c923"
   },
   "outputs": [
    {
     "data": {
      "text/plain": [
       "1266"
      ]
     },
     "execution_count": 13,
     "metadata": {},
     "output_type": "execute_result"
    }
   ],
   "source": [
    "# The total number of paid reviews\n",
    "total_paid_reviews = paid_vine_df.count()\n",
    "total_paid_reviews"
   ]
  },
  {
   "cell_type": "code",
   "execution_count": 14,
   "metadata": {
    "colab": {
     "base_uri": "https://localhost:8080/"
    },
    "id": "F9ygWb5iurkz",
    "outputId": "cf0070bf-6b17-4d3e-f140-bea48e735d7c"
   },
   "outputs": [
    {
     "data": {
      "text/plain": [
       "62028"
      ]
     },
     "execution_count": 14,
     "metadata": {},
     "output_type": "execute_result"
    }
   ],
   "source": [
    "# The total number of unpaid reviews\n",
    "total_unpaid_reviews = unpaid_vine_df.count()\n",
    "total_unpaid_reviews"
   ]
  },
  {
   "cell_type": "code",
   "execution_count": 15,
   "metadata": {
    "colab": {
     "base_uri": "https://localhost:8080/"
    },
    "id": "cH8mKNuUm6N9",
    "outputId": "dc06c8f8-f4e8-4291-9e79-42b1d4eb29a0"
   },
   "outputs": [
    {
     "data": {
      "text/plain": [
       "432"
      ]
     },
     "execution_count": 15,
     "metadata": {},
     "output_type": "execute_result"
    }
   ],
   "source": [
    "# The number of 5-star reviews\n",
    "Number_of_paid_5_star_reviews = paid_vine_df.filter(paid_vine_df['star_rating'] == 5)\n",
    "Number_of_paid_5_star_reviews.count()"
   ]
  },
  {
   "cell_type": "code",
   "execution_count": 16,
   "metadata": {
    "colab": {
     "base_uri": "https://localhost:8080/"
    },
    "id": "QjcIQrwMm6Qi",
    "outputId": "b331c7ca-2123-4c1d-9585-607de9a0aa7a"
   },
   "outputs": [
    {
     "data": {
      "text/plain": [
       "0.6825291496824344"
      ]
     },
     "execution_count": 16,
     "metadata": {},
     "output_type": "execute_result"
    }
   ],
   "source": [
    "# The percentage of paid 5-star reviews\n",
    "paid_percentage = (Number_of_paid_5_star_reviews.count()/helpful_vine_df.count()) *100\n",
    "paid_percentage"
   ]
  },
  {
   "cell_type": "code",
   "execution_count": 17,
   "metadata": {
    "colab": {
     "base_uri": "https://localhost:8080/"
    },
    "id": "c1QocPAntf3m",
    "outputId": "d5de2789-f45e-40e0-b326-73634ea00b94"
   },
   "outputs": [
    {
     "data": {
      "text/plain": [
       "29982"
      ]
     },
     "execution_count": 17,
     "metadata": {},
     "output_type": "execute_result"
    }
   ],
   "source": [
    "# The number of unpaid 5-star reviews\n",
    "Number_of_unpaid_5_star_reviews = unpaid_vine_df.filter(unpaid_vine_df['star_rating'] == 5)\n",
    "Number_of_unpaid_5_star_reviews.count()"
   ]
  },
  {
   "cell_type": "code",
   "execution_count": 18,
   "metadata": {
    "colab": {
     "base_uri": "https://localhost:8080/"
    },
    "id": "xGwf5ab7m6S2",
    "outputId": "e619c2db-c362-4000-bc5e-82c849d7df48"
   },
   "outputs": [
    {
     "data": {
      "text/plain": [
       "47.36941890226562"
      ]
     },
     "execution_count": 18,
     "metadata": {},
     "output_type": "execute_result"
    }
   ],
   "source": [
    "# The percentage of unpaid 5-star reviews\n",
    "unpaid_percentage = (Number_of_unpaid_5_star_reviews.count()/helpful_vine_df.count()) *100\n",
    "unpaid_percentage"
   ]
  },
  {
   "cell_type": "code",
   "execution_count": null,
   "metadata": {},
   "outputs": [],
   "source": []
  }
 ],
 "metadata": {
  "colab": {
   "authorship_tag": "ABX9TyN26QiUPY2Y/NDvHHy2AFkl",
   "collapsed_sections": [],
   "include_colab_link": true,
   "name": "Vine_Review_Analysis.ipynb",
   "provenance": []
  },
  "kernelspec": {
   "display_name": "Python 3",
   "language": "python",
   "name": "python3"
  },
  "language_info": {
   "codemirror_mode": {
    "name": "ipython",
    "version": 3
   },
   "file_extension": ".py",
   "mimetype": "text/x-python",
   "name": "python",
   "nbconvert_exporter": "python",
   "pygments_lexer": "ipython3",
   "version": "3.8.5"
  }
 },
 "nbformat": 4,
 "nbformat_minor": 4
}
